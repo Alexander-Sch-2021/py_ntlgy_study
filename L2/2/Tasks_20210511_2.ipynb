{
 "cells": [
  {
   "cell_type": "code",
   "execution_count": 2,
   "metadata": {},
   "outputs": [
    {
     "name": "stdout",
     "output_type": "stream",
     "text": [
      "123!qwe\n",
      "!\n"
     ]
    }
   ],
   "source": [
    "some_str = input()\n",
    "x_len = len(some_str)\n",
    "\n",
    "if x_len % 2 != 0:\n",
    "    print(some_str[x_len // 2])\n",
    "else:\n",
    "    print(some_str[x_len // 2 - 1:x_len // 2 + 1])\n"
   ]
  },
  {
   "cell_type": "code",
   "execution_count": 3,
   "metadata": {},
   "outputs": [
    {
     "name": "stdout",
     "output_type": "stream",
     "text": [
      "Введите число: 1\n",
      "Введите число: 2\n",
      "Введите число: 3\n",
      "Введите число: 4\n",
      "Введите число: 0\n",
      "Результат:  10\n"
     ]
    }
   ],
   "source": [
    "s = 0\n",
    "x = int(input('Введите число: '))\n",
    "while x != 0:\n",
    "    s += x\n",
    "    x = int(input('Введите число: '))\n",
    "print('Результат: ', s)\n"
   ]
  },
  {
   "cell_type": "code",
   "execution_count": 5,
   "metadata": {},
   "outputs": [
    {
     "name": "stdout",
     "output_type": "stream",
     "text": [
      "Идеальные пары:\n",
      "Peter и Kate\n",
      "Alex и Liza\n",
      "John и Kira\n",
      "Arthur и Emma\n",
      "Richard и Trisha\n"
     ]
    }
   ],
   "source": [
    "boys = ['Peter', 'Alex', 'John', 'Arthur', 'Richard']\n",
    "girls = ['Kate', 'Liza', 'Kira', 'Emma', 'Trisha']\n",
    "\n",
    "if len(boys) != len(girls):\n",
    "    print('Внимание, кто-то может остаться без пары!')\n",
    "else:\n",
    "    print('Идеальные пары:')\n",
    "    for i in range(len(boys)):\n",
    "        print(boys[i], 'и', girls[i])\n"
   ]
  },
  {
   "cell_type": "code",
   "execution_count": 6,
   "metadata": {},
   "outputs": [
    {
     "name": "stdout",
     "output_type": "stream",
     "text": [
      "Средняя температура в странах:\n",
      "Thailand - 23.9\n",
      "Germany - 13.8\n",
      "Russia - 3.7\n",
      "Poland - 12.0\n"
     ]
    }
   ],
   "source": [
    "countries_temperature = [\n",
    "['Thailand', [75.2, 77, 78.8, 73.4, 68, 75.2, 77]],\n",
    "['Germany', [57.2, 55.4, 59, 59, 53.6]],\n",
    "['Russia', [35.6, 37.4, 39.2, 41, 42.8, 39.2, 35.6]],\n",
    "['Poland', [50, 50, 53.6, 57.2, 55.4, 55.4]]\n",
    "]\n",
    "\n",
    "print('Средняя температура в странах:')\n",
    "for x in countries_temperature:\n",
    "    print(x[0], '-', round((sum(x[1]) / len(x[1]) - 32) * 5 / 9, 1))\n",
    "\n",
    "# print(*countries_temperature)\n",
    "# C = (F - 32) * 5 / 9"
   ]
  },
  {
   "cell_type": "code",
   "execution_count": 7,
   "metadata": {},
   "outputs": [
    {
     "name": "stdout",
     "output_type": "stream",
     "text": [
      "Среднее количество просмотров на уникального пользователя: 23.25\n"
     ]
    }
   ],
   "source": [
    "stream = [\n",
    "'2018-01-01,user1,3',\n",
    "'2018-01-07,user1,4',\n",
    "'2018-03-29,user1,1',\n",
    "'2018-04-04,user1,13',\n",
    "'2018-01-05,user2,7',\n",
    "'2018-06-14,user3,4',\n",
    "'2018-07-02,user3,10',\n",
    "'2018-03-21,user4,19',\n",
    "'2018-03-22,user4,4',\n",
    "'2018-04-22,user4,8',\n",
    "'2018-05-03,user4,9',\n",
    "'2018-05-11,user4,11'\n",
    "]\n",
    "# Результат:\n",
    "# Среднее количество просмотров на уникального пользователя: 23.25\n",
    "\n",
    "# stream = [\n",
    "# '2018-01-01,user100,150',\n",
    "# '2018-01-07,user99,205',\n",
    "# '2018-03-29,user1001,81'\n",
    "# ]\n",
    "# Результат:\n",
    "# Среднее количество просмотров на уникального пользователя: 145.33\n",
    "\n",
    "s = 0\n",
    "x_user = []\n",
    "for x in stream:\n",
    "    *_, u, n = x.split(',')\n",
    "    s += int(n)\n",
    "    if u not in x_user:\n",
    "        x_user.append(u)\n",
    "\n",
    "answer = round(s / len(x_user), 2)\n",
    "\n",
    "print(f'Среднее количество просмотров на уникального пользователя:', answer)\n"
   ]
  },
  {
   "cell_type": "code",
   "execution_count": 8,
   "metadata": {},
   "outputs": [
    {
     "name": "stdout",
     "output_type": "stream",
     "text": [
      "Введите последовательнось чисел через пробел: 1 2 3 4 5 4 3 2 1 1 2 3 4 9 4 2\n",
      "1 2 3 4 5 9\n"
     ]
    }
   ],
   "source": [
    "x = input('Введите последовательнось чисел через пробел: ').split()\n",
    "\n",
    "y = []\n",
    "\n",
    "for i in x:\n",
    "    if i not in y:\n",
    "        y.append(i)\n",
    "\n",
    "y.sort()\n",
    "\n",
    "print(*y)\n"
   ]
  },
  {
   "cell_type": "code",
   "execution_count": null,
   "metadata": {},
   "outputs": [],
   "source": []
  }
 ],
 "metadata": {
  "kernelspec": {
   "display_name": "Python 3",
   "language": "python",
   "name": "python3"
  },
  "language_info": {
   "codemirror_mode": {
    "name": "ipython",
    "version": 3
   },
   "file_extension": ".py",
   "mimetype": "text/x-python",
   "name": "python",
   "nbconvert_exporter": "python",
   "pygments_lexer": "ipython3",
   "version": "3.8.5"
  }
 },
 "nbformat": 4,
 "nbformat_minor": 4
}
