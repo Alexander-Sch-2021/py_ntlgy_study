{
 "cells": [
  {
   "cell_type": "code",
   "execution_count": 1,
   "metadata": {},
   "outputs": [
    {
     "name": "stdout",
     "output_type": "stream",
     "text": [
      "Введите первую фразу: 123123123\n",
      "Введите вторую фразу: 123123\n",
      "Фраза 1 длиннее фразы 2\n"
     ]
    }
   ],
   "source": [
    "phrase_1 = input('Введите первую фразу: ')\n",
    "phrase_2 = input('Введите вторую фразу: ')\n",
    "\n",
    "if len(phrase_1) > len(phrase_2):\n",
    "    print('Фраза 1 длиннее фразы 2')\n",
    "elif len(phrase_1) < len(phrase_2):\n",
    "    print('Фраза 2 длиннее фразы 1')\n",
    "else:\n",
    "    print('Фразы равной длины')\n"
   ]
  },
  {
   "cell_type": "code",
   "execution_count": 2,
   "metadata": {},
   "outputs": [
    {
     "name": "stdout",
     "output_type": "stream",
     "text": [
      "Введите год: 1234\n",
      "Обычный год\n"
     ]
    }
   ],
   "source": [
    "year = int(input('Введите год: '))\n",
    "\n",
    "if (year % 400 == 0) or (year % 4 == 0 and year % 100 != 0):\n",
    "    print('Високосный год')\n",
    "else:\n",
    "    print('Обычный год')\n"
   ]
  },
  {
   "cell_type": "code",
   "execution_count": 6,
   "metadata": {},
   "outputs": [
    {
     "name": "stdout",
     "output_type": "stream",
     "text": [
      "Введте день: 22\n",
      "Введите месяц: май\n",
      "Ваш знак зодиака:  Близнецы\n"
     ]
    }
   ],
   "source": [
    "x_day = int(input('Введте день: '))\n",
    "\n",
    "x_month = input('Введите месяц: ')\n",
    "\n",
    "if x_month == 'январь':\n",
    "    q_month = 1\n",
    "elif x_month == 'февраль':\n",
    "    q_month = 2\n",
    "elif x_month == 'март':\n",
    "    q_month = 3\n",
    "elif x_month == 'апрель':\n",
    "    q_month = 4\n",
    "elif x_month == 'май':\n",
    "    q_month = 5\n",
    "elif x_month == 'июнь':\n",
    "    q_month = 6\n",
    "elif x_month == 'июль':\n",
    "    q_month = 7\n",
    "elif x_month == 'август':\n",
    "    q_month = 8\n",
    "elif x_month == 'сентябрь':\n",
    "    q_month = 9\n",
    "elif x_month == 'октябрь':\n",
    "    q_month = 10\n",
    "elif x_month == 'ноябрь':\n",
    "    q_month = 11\n",
    "elif x_month == 'декабрь':\n",
    "    q_month = 12\n",
    "\n",
    "q_date = q_month * 100 + x_day\n",
    "\n",
    "if 121 <= q_date <= 219:\n",
    "    q_zodiac = 'Водолей'\n",
    "elif 220 <= q_date <= 320:\n",
    "    q_zodiac = 'Рыбы'\n",
    "elif 321 <= q_date <= 420:\n",
    "    q_zodiac = 'Овен'\n",
    "elif 421 <= q_date <= 521:\n",
    "    q_zodiac = 'Телец'\n",
    "elif 522 <= q_date <= 621:\n",
    "    q_zodiac = 'Близнецы'\n",
    "elif 622 <= q_date <= 722:\n",
    "    q_zodiac = 'Рак'\n",
    "elif 723 <= q_date <= 821:\n",
    "    q_zodiac = 'Лев'\n",
    "elif 822 <= q_date <= 923:\n",
    "    q_zodiac = 'Дева'\n",
    "elif 924 <= q_date <= 1023:\n",
    "    q_zodiac = 'Весы'\n",
    "elif 1024 <= q_date <= 1122:\n",
    "    q_zodiac = 'Скорпион'\n",
    "elif 1123 <= q_date <= 1222:\n",
    "    q_zodiac = 'Стрелец'\n",
    "elif 1223 <= q_date or q_date <= 120:\n",
    "    q_zodiac = 'Козерог'\n",
    "\n",
    "print('Ваш знак зодиака: ', q_zodiac)\n",
    "\n",
    "# Водолей (21 января — 19 февраля)\n",
    "# Рыбы (20 февраля — 20 марта)\n",
    "# Овен (21 марта — 20 апреля)\n",
    "# Телец (21 апреля — 21 мая)\n",
    "# Близнецы (22 мая — 21 июня)\n",
    "# Рак (22 июня — 22 июля)\n",
    "# Лев (23 июля — 21 августа)\n",
    "# Дева (22 августа — 23 сентября)\n",
    "# Весы (24 сентября — 23 октября)\n",
    "# Скорпион (24 октября — 22 ноября)\n",
    "# Стрелец (23 ноября — 22 декабря)\n",
    "# Козерог (23 декабря — 20 января)\n"
   ]
  },
  {
   "cell_type": "code",
   "execution_count": 7,
   "metadata": {},
   "outputs": [
    {
     "name": "stdout",
     "output_type": "stream",
     "text": [
      "Упаковка для лыж\n"
     ]
    }
   ],
   "source": [
    "width = 10\n",
    "length = 205\n",
    "height = 5\n",
    "\n",
    "if width < 15 and length < 15 and height < 15:\n",
    "    print('Коробка №1')\n",
    "elif length > 200:\n",
    "    print('Упаковка для лыж')\n",
    "elif (\n",
    "      width > 15 or length > 15 or height > 15\n",
    "     ) and (width < 50 and length < 50 and height < 50):\n",
    "    print('Коробка №2')\n",
    "else:\n",
    "    print('Стандартная коробка №3')\n"
   ]
  },
  {
   "cell_type": "code",
   "execution_count": 8,
   "metadata": {},
   "outputs": [
    {
     "name": "stdout",
     "output_type": "stream",
     "text": [
      "Номер: 123321\n",
      "Счастливый билет\n"
     ]
    }
   ],
   "source": [
    "num = int(input('Номер: '))\n",
    "n123 = num // 1000\n",
    "n456 = num % 1000\n",
    "\n",
    "if n123 // 100 + n123 % 100 // 10 + n123 % 10 == n456 // 100 + n456 % 100 // 10 + n456 % 10:\n",
    "    print('Счастливый билет')\n",
    "else:\n",
    "    print('Несчастливый билет')\n"
   ]
  },
  {
   "cell_type": "code",
   "execution_count": 9,
   "metadata": {},
   "outputs": [
    {
     "name": "stdout",
     "output_type": "stream",
     "text": [
      "Введите тип фигуры: Круг\n",
      "Введите радиус круга: 23\n",
      "Площадь Круга:  1661.90251185\n"
     ]
    }
   ],
   "source": [
    "fig = input('Введите тип фигуры: ')\n",
    "\n",
    "if fig == 'Круг':\n",
    "    r = int(input('Введите радиус круга: '))\n",
    "    s = 3.14159265 * r ** 2\n",
    "elif fig == 'Треугольник':\n",
    "    a = int(input('Введите длину стороны A: '))\n",
    "    b = int(input('Введите длину стороны B: '))\n",
    "    c = int(input('Введите длину стороны C: '))\n",
    "    p = 0.5 * (a + b + c)\n",
    "    s = (p * (p - a) * (p - b) * (p - c)) ** 0.5\n",
    "elif fig == 'Прямоугольник':\n",
    "    a = int(input('Введите длину стороны A: '))\n",
    "    b = int(input('Введите длину стороны B: '))\n",
    "    s = a * b\n",
    "else:\n",
    "    print('Неизвестная фигура')\n",
    "    s = -1\n",
    "\n",
    "if s >=0:\n",
    "    print('Площадь ' + fig + 'а: ', s)\n"
   ]
  }
 ],
 "metadata": {
  "kernelspec": {
   "display_name": "Python 3",
   "language": "python",
   "name": "python3"
  },
  "language_info": {
   "codemirror_mode": {
    "name": "ipython",
    "version": 3
   },
   "file_extension": ".py",
   "mimetype": "text/x-python",
   "name": "python",
   "nbconvert_exporter": "python",
   "pygments_lexer": "ipython3",
   "version": "3.8.5"
  }
 },
 "nbformat": 4,
 "nbformat_minor": 4
}
