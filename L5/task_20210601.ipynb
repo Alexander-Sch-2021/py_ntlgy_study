{
 "cells": [
  {
   "cell_type": "code",
   "execution_count": 2,
   "metadata": {},
   "outputs": [
    {
     "name": "stdout",
     "output_type": "stream",
     "text": [
      "Файл purchase_log.txt обработан\n"
     ]
    }
   ],
   "source": [
    "import json\n",
    "\n",
    "purchases = {}\n",
    "\n",
    "with open('purchase_log.txt', 'r', encoding = 'utf-8') as f:\n",
    "    # первая строчка - заголовок\n",
    "    f.readline()\n",
    "    for line in f:\n",
    "        line = line.strip()\n",
    "        tmp = json.loads(line)\n",
    "        purchases[tmp['user_id']] = tmp['category']\n",
    "f.close()\n",
    "\n",
    "print('Файл purchase_log.txt обработан')"
   ]
  },
  {
   "cell_type": "code",
   "execution_count": 3,
   "metadata": {},
   "outputs": [
    {
     "name": "stdout",
     "output_type": "stream",
     "text": [
      "Файлы обработаны\n"
     ]
    }
   ],
   "source": [
    "import json\n",
    "\n",
    "purchases = {}\n",
    "\n",
    "with open('purchase_log.txt', 'r', encoding = 'utf-8') as f:\n",
    "    # первая строчка - заголовок\n",
    "    #f.readline()\n",
    "    for line in f:\n",
    "        line = line.strip()\n",
    "        tmp = json.loads(line)\n",
    "        purchases[tmp['user_id']] = tmp['category']\n",
    "f.close()\n",
    "\n",
    "line_out = []\n",
    "\n",
    "with open('visit_log.csv', 'r',  encoding = 'utf-8') as f_in:\n",
    "    with open('funnel.csv', 'w', encoding = 'utf-8') as f_out:\n",
    "        for line_in in f_in:\n",
    "            if line_in.split(',')[0] in purchases:\n",
    "                line_out = line_in.strip().split(',')\n",
    "                line_out.append(purchases[line_out[0]])\n",
    "                #print(line_out)\n",
    "                f_out.write(str(line_out)+'\\n')\n",
    "    f_out.close\n",
    "f_in.close\n",
    "\n",
    "print('Файлы обработаны')"
   ]
  },
  {
   "cell_type": "code",
   "execution_count": null,
   "metadata": {},
   "outputs": [],
   "source": []
  }
 ],
 "metadata": {
  "kernelspec": {
   "display_name": "Python 3",
   "language": "python",
   "name": "python3"
  },
  "language_info": {
   "codemirror_mode": {
    "name": "ipython",
    "version": 3
   },
   "file_extension": ".py",
   "mimetype": "text/x-python",
   "name": "python",
   "nbconvert_exporter": "python",
   "pygments_lexer": "ipython3",
   "version": "3.8.5"
  }
 },
 "nbformat": 4,
 "nbformat_minor": 4
}
