{
 "cells": [
  {
   "cell_type": "code",
   "execution_count": 17,
   "metadata": {},
   "outputs": [
    {
     "name": "stdout",
     "output_type": "stream",
     "text": [
      "А222ВС96 : номер  А222ВС  валиден, регион: 96\n",
      "АБ22ВВ193 : номер не валиден\n"
     ]
    }
   ],
   "source": [
    "import re\n",
    "\n",
    "def check_num(car_id):\n",
    "    x_id = car_id.upper()\n",
    "    if re.match(r'[АВЕКМНОРСТУХ]\\d{3}[АВЕКМНОРСТУХ][АВЕКМНОРСТУХ]\\d{2,3}', x_id) is None:\n",
    "        print(car_id, ': номер не валиден')\n",
    "    else:\n",
    "        print(car_id, \n",
    "              ': номер ', \n",
    "              re.match(r'[АВЕКМНОРСТУХ]\\d{3}[АВЕКМНОРСТУХ][АВЕКМНОРСТУХ]', x_id).group(),\n",
    "              ' валиден, регион:', \n",
    "              re.search(r'\\d{2,3}$', x_id).group())\n",
    "\n",
    "\n",
    "#[АВЕКМНОРСТУХ] - могут включаться в российские номерные знаки\n",
    "check_num('А222ВС96')\n",
    "check_num('АБ22ВВ193')\n"
   ]
  },
  {
   "cell_type": "code",
   "execution_count": 18,
   "metadata": {},
   "outputs": [
    {
     "name": "stdout",
     "output_type": "stream",
     "text": [
      "Напишите функцию, которая будет удалять все последовательные повторы слов из заданной строки при помощи регулярных выражений\n"
     ]
    }
   ],
   "source": [
    "import re\n",
    "\n",
    "def remove_dbl_words(fst_str):\n",
    "    \n",
    "    return re.sub(r'(\\w+\\s)\\1+', r'\\1', re.sub(r'(\\b\\w+\\b).\\1+', r'\\1', fst_str, flags = re.IGNORECASE), flags = re.IGNORECASE)\n",
    "    \n",
    "some_string = \"\"\"Напишите функцию функцию, которая будет будет будет будет удалять все все все все последовательные повторы слов из из из из заданной строки строки при помощи регулярных выражений\"\"\"\n",
    "\n",
    "print(remove_dbl_words(some_string))\n"
   ]
  },
  {
   "cell_type": "code",
   "execution_count": 19,
   "metadata": {},
   "outputs": [
    {
     "name": "stdout",
     "output_type": "stream",
     "text": [
      "ИТ\n",
      "NFC\n"
     ]
    }
   ],
   "source": [
    "import re\n",
    "\n",
    "def akronim(x_phrase):\n",
    "    return ''.join(re.findall(r'\\b\\w', x_phrase.upper()))\n",
    "    \n",
    "some_words = 'Информационные технологии'\n",
    "print(str(akronim(some_words)))\n",
    "\n",
    "some_words = 'Near Field Communication'\n",
    "print(str(akronim(some_words)))\n"
   ]
  },
  {
   "cell_type": "code",
   "execution_count": 21,
   "metadata": {},
   "outputs": [
    {
     "name": "stdout",
     "output_type": "stream",
     "text": [
      "{'gmail.com': 2, 'test.in': 1, 'ya.ru': 2, 'mail.ru': 1}\n"
     ]
    }
   ],
   "source": [
    "import re\n",
    "\n",
    "def email_statistica(x_email):\n",
    "    x_dict = {}\n",
    "    for x in x_email:\n",
    "        xx = re.findall(r'@\\w+\\.\\w+', x)\n",
    "        for xxx in xx:\n",
    "            x_dict.setdefault(xxx[1:], 0)\n",
    "            x_dict[xxx[1:]] += 1\n",
    "    return x_dict\n",
    "    \n",
    "\n",
    "emls = ['test@gmail.com, xyz@test.in, test@ya.ru, xyz@mail.ru, xyz@ya.ru', 'xyz@gmail.com']\n",
    "          \n",
    "print(email_statistica(emls))"
   ]
  },
  {
   "cell_type": "code",
   "execution_count": 22,
   "metadata": {},
   "outputs": [
    {
     "name": "stdout",
     "output_type": "stream",
     "text": [
      "Слов на гласные буквы: 9\n",
      "Слов на согласные буквы: 21\n"
     ]
    }
   ],
   "source": [
    "import re\n",
    "\n",
    "def vowels_and_consonants(x_phrase):\n",
    "    n_volwes = len(re.findall(r'\\b[AEIOUАЕИОУЫЭЮЯЁ]\\w*', x_phrase.upper()))\n",
    "    print('Слов на гласные буквы:', n_volwes)\n",
    "    print('Слов на согласные буквы:', len(re.findall(r'\\w+', x_phrase.upper())) - n_volwes)\n",
    "\n",
    "some_text = 'Эталонной реализацией Python является интерпретатор CPython, поддерживающий большинство активно используемых платформ. Он распространяется под свободной лицензией Python Software Foundation License, позволяющей использовать его без ограничений в любых приложениях, включая проприетарные.'\n",
    "\n",
    "vowels_and_consonants(some_text)"
   ]
  },
  {
   "cell_type": "code",
   "execution_count": 23,
   "metadata": {},
   "outputs": [
    {
     "name": "stdout",
     "output_type": "stream",
     "text": [
      "+7-955-123-45-67\n",
      "Номер 7(955) 23-45-67 не валиден\n"
     ]
    }
   ],
   "source": [
    "# понимаю, что задача на перебор шаблонов, но творчество пользователей не имеет границ ...,\n",
    "# а опыт показывает, что все равно найдется кто-то, кто пустит твой труд насмарку,\n",
    "# поэтому пусть валидный номер начинается с 7 или 8 и имеет всего 11 цифр :-)\n",
    "\n",
    "import re\n",
    "\n",
    "def phone_number(p_number):\n",
    "    x_number = ''.join(re.findall(r'\\d', p_number))\n",
    "    ok = re.match(r'[78]\\d{10}', x_number)\n",
    "    if ok:\n",
    "        print('+7-' + ok.group()[1:4] + '-' + ok.group()[4:7] + '-' + ok.group()[7:9] + '-' + ok.group()[9:])\n",
    "    else:\n",
    "        print('Номер', p_number, 'не валиден')\n",
    "    \n",
    "    \n",
    "    \n",
    "phone = '7(955) 123-45-67'\n",
    "phone_number(phone)\n",
    "\n",
    "phone = '7(955) 23-45-67'\n",
    "phone_number(phone)"
   ]
  },
  {
   "cell_type": "code",
   "execution_count": null,
   "metadata": {},
   "outputs": [],
   "source": []
  }
 ],
 "metadata": {
  "kernelspec": {
   "display_name": "Python 3",
   "language": "python",
   "name": "python3"
  },
  "language_info": {
   "codemirror_mode": {
    "name": "ipython",
    "version": 3
   },
   "file_extension": ".py",
   "mimetype": "text/x-python",
   "name": "python",
   "nbconvert_exporter": "python",
   "pygments_lexer": "ipython3",
   "version": "3.8.5"
  }
 },
 "nbformat": 4,
 "nbformat_minor": 4
}
