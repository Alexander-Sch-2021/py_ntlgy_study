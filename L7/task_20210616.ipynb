{
 "cells": [
  {
   "cell_type": "code",
   "execution_count": 1,
   "metadata": {},
   "outputs": [],
   "source": [
    "from datetime import datetime"
   ]
  },
  {
   "cell_type": "code",
   "execution_count": 2,
   "metadata": {},
   "outputs": [
    {
     "name": "stdout",
     "output_type": "stream",
     "text": [
      "2002-10-02 00:00:00\n",
      "2013-10-11 00:00:00\n",
      "1977-08-18 00:00:00\n"
     ]
    }
   ],
   "source": [
    "#The Moscow Times - Wednesday, October 2, 2002\n",
    "#The Guardian - Friday, 11.10.13\n",
    "#Daily News - Thursday, 18 August 1977\n",
    "\n",
    "x_date = datetime.strptime('Wednesday, October 2, 2002', '%A, %B %d, %Y')\n",
    "print(x_date)\n",
    "\n",
    "x_date = datetime.strptime('Friday, 11.10.13', '%A, %d.%m.%y')\n",
    "print(x_date)\n",
    "\n",
    "x_date = datetime.strptime('Thursday, 18 August 1977', '%A, %d %B %Y')\n",
    "print(x_date)"
   ]
  },
  {
   "cell_type": "code",
   "execution_count": 3,
   "metadata": {},
   "outputs": [
    {
     "name": "stdout",
     "output_type": "stream",
     "text": [
      "2018-04-02: True\n",
      "2018-02-29: False\n",
      "2018-19-02: False\n"
     ]
    }
   ],
   "source": [
    "def chk_dt(x_dt):\n",
    "    x_res = True\n",
    "\n",
    "    try:\n",
    "        dt = datetime.strptime(x_dt, '%Y-%m-%d')\n",
    "    except:\n",
    "        x_res = False\n",
    "\n",
    "    print(x_dt + ':', x_res)\n",
    "\n",
    "    \n",
    "stream = ['2018-04-02', '2018-02-29', '2018-19-02']\n",
    "        \n",
    "for dt in stream:\n",
    "    chk_dt(dt)\n"
   ]
  },
  {
   "cell_type": "code",
   "execution_count": 20,
   "metadata": {},
   "outputs": [
    {
     "data": {
      "text/plain": [
       "[datetime.datetime(2021, 6, 1, 0, 0),\n",
       " datetime.datetime(2021, 6, 2, 0, 0),\n",
       " datetime.datetime(2021, 6, 3, 0, 0),\n",
       " datetime.datetime(2021, 6, 4, 0, 0),\n",
       " datetime.datetime(2021, 6, 5, 0, 0)]"
      ]
     },
     "execution_count": 20,
     "metadata": {},
     "output_type": "execute_result"
    }
   ],
   "source": [
    "from datetime import timedelta\n",
    "\n",
    "def date_range(dt_start, dt_end):\n",
    "    dt_list = []\n",
    "    \n",
    "    try:\n",
    "        dt_from = datetime.strptime(dt_start, '%Y-%m-%d')\n",
    "    except:\n",
    "        return dt_list\n",
    "    \n",
    "    try:\n",
    "        dt_to = datetime.strptime(dt_end, '%Y-%m-%d')\n",
    "    except:\n",
    "        return dt_list\n",
    "    \n",
    "    while dt_from <= dt_to:\n",
    "        dt_list.append(dt_from)\n",
    "        dt_from += timedelta(days = 1)\n",
    "    \n",
    "    return dt_list\n",
    "    \n",
    "    \n",
    "start_dt = '2021-06-01'\n",
    "end_dt = '2021-06-05'\n",
    "\n",
    "date_range(start_dt, end_dt)\n",
    "    "
   ]
  },
  {
   "cell_type": "code",
   "execution_count": null,
   "metadata": {},
   "outputs": [],
   "source": [
    "DEFAULT_USER_COUNT = 3\n",
    "\n",
    "def delete_and_return_last_user(region, default_list=[‘A100’, ‘A101’, ‘A102’]):\n",
    "    '\n",
    "    Удаляет из списка default_list последнего пользователя\n",
    "    и возвращает ID нового последнего пользователя.\n",
    "    '\n",
    "    element_to_delete = default_list[-1]\n",
    "    default_list.remove(element_to_delete)\n",
    "\n",
    "    return default_list[DEFAULT_USER_COUNT-2]\n",
    "\n",
    "\n",
    "При однократном вызове этой функции все работает корректно:\n",
    "delete_and_return_last_user(1)\n",
    "‘A101’\n",
    "\n",
    "Однако, при повторном вызове получается ошибка IndexError: list index out of range.\n",
    "\n",
    ">>> 1) list index out of range = индекс списка вне допустимого диапазона\n",
    ">>> 2) ошибка возникает из-за того, что return всегда возвращает фиксированный элемент списка под номером 1 = DEFAULT_USER_COUNT - 2, т.е. второй элемент.\n",
    "После второго запуска функции в списке остается только один элемент (с номером 0), а второй (с номером 1) уже удален."
   ]
  },
  {
   "cell_type": "code",
   "execution_count": null,
   "metadata": {},
   "outputs": [],
   "source": []
  }
 ],
 "metadata": {
  "kernelspec": {
   "display_name": "Python 3",
   "language": "python",
   "name": "python3"
  },
  "language_info": {
   "codemirror_mode": {
    "name": "ipython",
    "version": 3
   },
   "file_extension": ".py",
   "mimetype": "text/x-python",
   "name": "python",
   "nbconvert_exporter": "python",
   "pygments_lexer": "ipython3",
   "version": "3.8.5"
  }
 },
 "nbformat": 4,
 "nbformat_minor": 4
}
