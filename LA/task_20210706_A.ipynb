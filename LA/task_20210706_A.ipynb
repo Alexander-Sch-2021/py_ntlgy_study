{
 "cells": [
  {
   "cell_type": "code",
   "execution_count": 1,
   "id": "4dfdbb2e",
   "metadata": {},
   "outputs": [
    {
     "data": {
      "text/html": [
       "<div>\n",
       "<style scoped>\n",
       "    .dataframe tbody tr th:only-of-type {\n",
       "        vertical-align: middle;\n",
       "    }\n",
       "\n",
       "    .dataframe tbody tr th {\n",
       "        vertical-align: top;\n",
       "    }\n",
       "\n",
       "    .dataframe thead th {\n",
       "        text-align: right;\n",
       "    }\n",
       "</style>\n",
       "<table border=\"1\" class=\"dataframe\">\n",
       "  <thead>\n",
       "    <tr style=\"text-align: right;\">\n",
       "      <th></th>\n",
       "    </tr>\n",
       "    <tr>\n",
       "      <th>title</th>\n",
       "    </tr>\n",
       "  </thead>\n",
       "  <tbody>\n",
       "    <tr>\n",
       "      <th>Shawshank Redemption, The (1994)</th>\n",
       "    </tr>\n",
       "  </tbody>\n",
       "</table>\n",
       "</div>"
      ],
      "text/plain": [
       "Empty DataFrame\n",
       "Columns: []\n",
       "Index: [Shawshank Redemption, The (1994)]"
      ]
     },
     "execution_count": 1,
     "metadata": {},
     "output_type": "execute_result"
    }
   ],
   "source": [
    "# Скачайте с сайта grouplens.org...movielens/ датасет любого размера. \n",
    "# Определите какому фильму было выставлено больше всего оценок 5.0.\n",
    "# https://grouplens.org/datasets/movielens/25m/\n",
    "\n",
    "import pandas as pd\n",
    "\n",
    "rt_fl = 'ratings.csv'\n",
    "mv_fl = 'movies.csv'\n",
    "\n",
    "rt_df = pd.read_csv(rt_fl)\n",
    "mv_df = pd.read_csv(mv_fl)\n",
    "\n",
    "# rt_df.head()\n",
    "# mv_df.head()\n",
    "\n",
    "rt_df.merge(mv_df, on = 'movieId', how = 'inner').query('rating == 5').groupby('title').count().sort_values('rating', ascending = False).filter(items = ['title']).head(1)\n"
   ]
  },
  {
   "cell_type": "code",
   "execution_count": 2,
   "id": "c6e5dc15",
   "metadata": {},
   "outputs": [
    {
     "data": {
      "text/plain": [
       "240580.0"
      ]
     },
     "execution_count": 2,
     "metadata": {},
     "output_type": "execute_result"
    }
   ],
   "source": [
    "# По данным файла power.csv посчитайте суммарное потребление стран Прибалтики (Латвия, Литва и Эстония) \n",
    "# категорий 4, 12 и 21 за период с 2005 по 2010 года. Не учитывайте в расчетах отрицательные значения quantity\n",
    "\n",
    "import pandas as pd\n",
    "\n",
    "fl = 'power.csv'\n",
    "df = pd.read_csv(fl)\n",
    "# df.head()\n",
    "# df['country'].unique()\n",
    "#'Lithuania', 'Latvia', 'Estonia'\n",
    "\n",
    "df[   ( (df['country'] == 'Lithuania') | (df['country'] == 'Latvia')  | (df['country'] == 'Estonia') ) \n",
    "    & ( (df['category'] == 4) | (df['category'] == 12) | (df['category'] == 21) )\n",
    "    & ( df['year'] >= 2005 ) & ( df['year'] <= 2010 )\n",
    "    & ( df['quantity'] > 0 )]['quantity'].sum()\n"
   ]
  },
  {
   "cell_type": "code",
   "execution_count": 3,
   "id": "d9e01aa5",
   "metadata": {},
   "outputs": [
    {
     "data": {
      "text/plain": [
       "[    Код  Количество                 Название       RUB  Изменение\n",
       " 0   USD           1               Доллар США   72.7857    -0.0867\n",
       " 1   EUR           1                     Евро   86.4112    -0.1466\n",
       " 2   CNY           1           Китайский юань   11.2631    -0.0086\n",
       " 3   GBP           1          Фунт стерлингов  101.3541    -0.0697\n",
       " 4   TJS          10        Таджикский сомони   63.8191    -0.0760\n",
       " 5   KZT         100      Казахстанский тенге   17.1482    -0.0265\n",
       " 6   TRY          10            Турецкая лира   86.2022    -1.3007\n",
       " 7   PLN           1          Польский злотый   18.9507    -0.0666\n",
       " 8   BYN           1        Белорусский рубль   28.9475    -0.1630\n",
       " 9   UAH          10        Украинская гривна   27.0561    -0.1046\n",
       " 10  UZS       10000            Узбекский сум   68.3660    -0.0331\n",
       " 11  KGS         100           Киргизский сом   85.9006    -0.0819\n",
       " 12  AMD         100           Армянский драм   14.8770    -0.0086\n",
       " 13  JPY         100            Японская иена   66.6536    -0.0763\n",
       " 14  CHF           1        Швейцарский франк   80.3907    -0.1313\n",
       " 15  CZK          10            Чешская крона   33.9201    -0.0610\n",
       " 16  CAD           1         Канадский доллар   58.0613    -0.1807\n",
       " 17  AZN           1    Азербайджанский манат   42.8403    -0.0510\n",
       " 18  KRW        1000     Вон Республики Корея   63.6353     0.1523\n",
       " 19  SEK          10           Шведская крона   84.5922    -0.3496\n",
       " 20  INR         100          Индийская рупия   98.1005    -0.0402\n",
       " 21  HUF         100        Венгерский форинт   24.3235    -0.0432\n",
       " 22  NOK          10         Норвежская крона   82.5853    -0.4214\n",
       " 23  AUD           1     Австралийский доллар   53.9633     0.1106\n",
       " 24  BGN           1           Болгарский лев   44.1072    -0.1518\n",
       " 25  MDL          10           Молдавский лей   40.7763     0.0199\n",
       " 26  DKK           1            Датская крона   11.5995    -0.0376\n",
       " 27  SGD           1      Сингапурский доллар   53.9393    -0.0083\n",
       " 28  RON           1            Румынский лей   17.5400    -0.0599\n",
       " 29  BRL           1         Бразильский реал   14.0040    -0.0746\n",
       " 30  TMT           1  Новый туркменский манат   20.8257    -0.0248\n",
       " 31  XDR           1                      СДР  103.9678    -0.0845\n",
       " 32  ZAR          10     Южноафриканский рэнд   51.0326     0.2299]"
      ]
     },
     "execution_count": 3,
     "metadata": {},
     "output_type": "execute_result"
    }
   ],
   "source": [
    "# Выберите страницу любого сайта с табличными данными. \n",
    "# Импортируйте таблицы в pandas dataframe. Примеры страниц (необязательно брать именно эти): \n",
    "# https://fortrader.org/quotes www.finanz.ru...om-vremeni\n",
    "\n",
    "import pandas as pd\n",
    "\n",
    "pg_html = 'https://fortrader.org/currencyrates'\n",
    "df = pd.read_html(pg_html, encoding = 'utf-8')\n",
    "df"
   ]
  },
  {
   "cell_type": "code",
   "execution_count": null,
   "id": "5646b450",
   "metadata": {},
   "outputs": [],
   "source": []
  }
 ],
 "metadata": {
  "kernelspec": {
   "display_name": "Python 3",
   "language": "python",
   "name": "python3"
  },
  "language_info": {
   "codemirror_mode": {
    "name": "ipython",
    "version": 3
   },
   "file_extension": ".py",
   "mimetype": "text/x-python",
   "name": "python",
   "nbconvert_exporter": "python",
   "pygments_lexer": "ipython3",
   "version": "3.8.8"
  }
 },
 "nbformat": 4,
 "nbformat_minor": 5
}
