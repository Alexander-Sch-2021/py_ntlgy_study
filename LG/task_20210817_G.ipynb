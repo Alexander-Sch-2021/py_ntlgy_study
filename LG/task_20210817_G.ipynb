{
 "cells": [
  {
   "cell_type": "code",
   "execution_count": 1,
   "id": "786d3c1d",
   "metadata": {},
   "outputs": [],
   "source": [
    "import numpy as np"
   ]
  },
  {
   "cell_type": "code",
   "execution_count": 2,
   "id": "66cdb73e",
   "metadata": {},
   "outputs": [
    {
     "name": "stdout",
     "output_type": "stream",
     "text": [
      "1000000 794611 0.794611\n"
     ]
    }
   ],
   "source": [
    "n = 1000000 # количество попыток\n",
    "s1 = 1  # стоимость 1 игры\n",
    "ss = n * s1 # стоимость всех попыток\n",
    "w = 0 # выигрыш\n",
    "for i in range(n):\n",
    "    x = np.random.randint(0, 1000)\n",
    "    if x == 777:\n",
    "        w += 200\n",
    "    elif x == 999:\n",
    "        w += 100\n",
    "    elif x == 555:\n",
    "        w += 50\n",
    "    elif x == 333:\n",
    "        w += 15\n",
    "    elif x == 111:\n",
    "        w += 10\n",
    "    elif x % 100 == 77:\n",
    "        w += 5\n",
    "    elif x % 10 == 7:\n",
    "        w += 3\n",
    "    elif x % 100 == 0:\n",
    "        w += 2\n",
    "    elif x % 10 == 0:\n",
    "        w += 1\n",
    "    #print(x, w)\n",
    "\n",
    "print(ss, w, w/ss)"
   ]
  },
  {
   "cell_type": "markdown",
   "id": "3aad7e73",
   "metadata": {},
   "source": [
    "Средний выигрыш\n",
    "\n",
    "СВ (случайная величина) - сумма выигрыша при одной реализации \n",
    "СВ принимает значения от 0 до 999\n",
    "количество значений СВ N = 1000\n",
    "СВ может принимать следующие значения:\n",
    "200 руб. -  1 раз при выпадении 777\n",
    "100 руб. -  1 раз при выпадении 999\n",
    " 50 руб. -  1 раз при выпадении 555\n",
    " 15 руб. -  1 раз при выпадении 333\n",
    " 10 руб. -  1 раз при выпадении 111\n",
    "  5 руб. -  9 раз при выпадении *77\n",
    "  3 руб. - 90 раз при выпадении **7\n",
    "  2 руб. - 10 раз при выпадении *00\n",
    "  1 руб. - 90 раз при выпадении **0"
   ]
  },
  {
   "cell_type": "code",
   "execution_count": 3,
   "id": "a6ba93e2",
   "metadata": {},
   "outputs": [
    {
     "name": "stdout",
     "output_type": "stream",
     "text": [
      "0.8\n"
     ]
    }
   ],
   "source": [
    "x = (200 + 100 + 50 + 15 + 10 + 5 * 9 + 3 * 90 + 2 * 10 + 1 * 90) / 1000\n",
    "print(x)"
   ]
  },
  {
   "cell_type": "code",
   "execution_count": null,
   "id": "8a6bac45",
   "metadata": {},
   "outputs": [],
   "source": [
    "т.е. в среднем на 1 вложенный рубль получаем 80 копеек выигрыш :-)"
   ]
  },
  {
   "cell_type": "code",
   "execution_count": null,
   "id": "946c8158",
   "metadata": {},
   "outputs": [],
   "source": []
  }
 ],
 "metadata": {
  "kernelspec": {
   "display_name": "Python 3",
   "language": "python",
   "name": "python3"
  },
  "language_info": {
   "codemirror_mode": {
    "name": "ipython",
    "version": 3
   },
   "file_extension": ".py",
   "mimetype": "text/x-python",
   "name": "python",
   "nbconvert_exporter": "python",
   "pygments_lexer": "ipython3",
   "version": "3.8.8"
  }
 },
 "nbformat": 4,
 "nbformat_minor": 5
}
